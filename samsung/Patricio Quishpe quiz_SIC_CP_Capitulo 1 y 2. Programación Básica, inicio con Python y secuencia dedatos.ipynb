{
 "cells": [
  {
   "cell_type": "markdown",
   "id": "f34adb44",
   "metadata": {
    "id": "f34adb44"
   },
   "source": [
    "# Codificación y programación\n",
    "\n",
    "## Capítulo 1\n",
    "\n",
    "### Conceptos básicos de programación e iniciación con python\n",
    "\n",
    "\n",
    "- **Unidad 1**: Programación secuencial\n",
    "- **Unidad 2**: Planificación de la programación\n",
    "- **Unidad 3**: Fundamentos de los tipos de datos numéricos y operaciones aritméticas\n",
    "- **Unidad 4**: Variables y entradas (Inputs)\n",
    "- **Unidad 5**: Operaciones lógicas y de comparación\n",
    "- **Unidad 6**: Enunciado condicional-1: Condiciones y toma de decisiones\n",
    "- **Unidad 7**: Enunciado condicional-2: Tomar decisiones en dos direcciones y aplicar enunciados condicionales\n",
    "- **Unidad 8**: Bucle-1\n",
    "- **Unidad 9**: Bucle-2\n",
    "\n",
    "### Secuencia de datos escrita en python\n",
    "\n",
    "- **Unidad 10.** Tipos de datos lista y tupla Tipos de datos lista y tupla\n",
    "- **Unidad 11.** Tipos de datos de diccionario Tipos de datos de diccionario\n",
    "- **Unidad 12.** Tipos de datos de secuencia\n",
    "- **Unidad 13.** Listas 2D\n",
    "- **Unidad 14.** Método del diccionario-1\n",
    "- **Unidad 15.** Método del diccionario-2\n",
    "- **Unidad 16.** Establecer tipos de datos\n",
    "\n",
    "# Quiz 1"
   ]
  },
  {
   "cell_type": "markdown",
   "id": "e18212f9",
   "metadata": {},
   "source": [
    "Autor: Patricio Quishpe "
   ]
  },
  {
   "cell_type": "markdown",
   "id": "2e42031a",
   "metadata": {
    "id": "2e42031a"
   },
   "source": [
    "___"
   ]
  },
  {
   "cell_type": "markdown",
   "id": "ac1e9b02",
   "metadata": {
    "id": "ac1e9b02"
   },
   "source": [
    "## Q 01-01\n",
    "\n",
    "El código que imprime los valores numéricos del 1 al 3 utilizando la función `print()` es `print(1+2+3)`.\n",
    "\n",
    "Con referencia a este código, imprima los valores de 1 a 5 de forma similar.\n",
    "\n",
    "**Respuesta:**"
   ]
  },
  {
   "cell_type": "markdown",
   "id": "903e6874",
   "metadata": {
    "id": "903e6874"
   },
   "source": [
    "print(1)\n",
    "print(1+2)\n",
    "print(1+2+3)\n",
    "print(1+2+3+4)\n",
    "print(1+2+3+4+5)"
   ]
  },
  {
   "cell_type": "markdown",
   "id": "26e1df49",
   "metadata": {
    "id": "26e1df49"
   },
   "source": [
    "___"
   ]
  },
  {
   "cell_type": "markdown",
   "id": "8c115f28",
   "metadata": {
    "id": "8c115f28"
   },
   "source": [
    "## Q 02-01\n",
    "\n",
    "Un programa que reciba un número entero positivo del usuario y indique si es un número par o impar.\n",
    "\n",
    "Complete el pseudocódigo apropiado para **___**."
   ]
  },
  {
   "cell_type": "markdown",
   "id": "4b66252e",
   "metadata": {
    "id": "4b66252e"
   },
   "source": [
    "```\n",
    "print(\"Ingrese un entero:\")\n",
    "n = int(input())  # Convertir a entero\n",
    "if n % 2 == 0:    # Verifica si el número es divisible entre 2\n",
    "    print(\"Es par\")\n",
    "else:\n",
    "    print(\"Es impar\")\n",
    "\n",
    "```"
   ]
  },
  {
   "cell_type": "markdown",
   "id": "7410bc11",
   "metadata": {
    "id": "7410bc11"
   },
   "source": [
    "___"
   ]
  },
  {
   "cell_type": "markdown",
   "id": "e98e5186",
   "metadata": {
    "id": "e98e5186"
   },
   "source": [
    "## Q 03-01\n",
    "\n",
    "Escribe el resultado del siguiente código y escríbalo."
   ]
  },
  {
   "cell_type": "markdown",
   "id": "6d34caea",
   "metadata": {
    "id": "6d34caea"
   },
   "source": [
    "```\n",
    "x = 1\n",
    "y = 0\n",
    "print(x and y)\n",
    "print(x or y)\n",
    "print(not x)\n",
    "print(not y)\n",
    "```"
   ]
  },
  {
   "cell_type": "markdown",
   "id": "dd43cd9d",
   "metadata": {
    "id": "dd43cd9d"
   },
   "source": [
    "´´´\n",
    "0\n",
    "1\n",
    "False\n",
    "True\n",
    "\n",
    "´´´\n"
   ]
  },
  {
   "cell_type": "markdown",
   "id": "1c76ac19",
   "metadata": {
    "id": "1c76ac19"
   },
   "source": [
    "___"
   ]
  },
  {
   "cell_type": "markdown",
   "id": "6abcf432",
   "metadata": {
    "id": "6abcf432"
   },
   "source": [
    "## Q 04-01\n",
    "\n",
    "Escriba un programa que realice las siguientes funciones utilizando una expresión condicional compuesta de una sentencia `if`.\n",
    "\n",
    "**Guía de codificación:**\n",
    "- Escriba un código que se ejecute de forma diferente dependiendo de si la respuesta a la primera pregunta es 0 o 1.\n"
   ]
  },
  {
   "cell_type": "markdown",
   "id": "f083e248",
   "metadata": {
    "id": "f083e248"
   },
   "source": [
    "**Ejemplo:**\n",
    "\n",
    "¿Eres un adulto? (1 si es mayor de edad, 0 si es menor de edad): 1\n",
    "\n",
    "¿Está casado? (1 si es casado, 0 si es soltero): 1\n",
    "\n",
    "Usted es un adulto que está casado.\n",
    "\n",
    "**Las tres salidas posibles son:**\n",
    "- Usted es un adulto que está casado.\n",
    "- Usted es un adulto que está soltero.\n",
    "- Usted es menor de edad.\n",
    "\n",
    "**Respuesta:**"
   ]
  },
  {
   "cell_type": "code",
   "execution_count": 1,
   "id": "322b189d",
   "metadata": {},
   "outputs": [
    {
     "name": "stdout",
     "output_type": "stream",
     "text": [
      "Usted es un adulto que está casado.\n"
     ]
    }
   ],
   "source": [
    "adulto = int(input(\"¿Eres un adulto? (1 si es mayor de edad, 0 si es menor de edad): \"))\n",
    "if adulto == 1:\n",
    "    casado = int(input(\"¿Está casado? (1 si es casado, 0 si es soltero): \"))\n",
    "    if casado == 1:\n",
    "        print(\"Usted es un adulto que está casado.\")\n",
    "    else:\n",
    "        print(\"Usted es un adulto que está soltero.\")\n",
    "else:\n",
    "    print(\"Usted es menor de edad.\")"
   ]
  },
  {
   "cell_type": "markdown",
   "id": "e3e514a9",
   "metadata": {
    "id": "e3e514a9"
   },
   "source": [
    "___"
   ]
  },
  {
   "cell_type": "markdown",
   "id": "59dd267b",
   "metadata": {
    "id": "59dd267b"
   },
   "source": [
    "## Q 05-01\n",
    "\n",
    "Entre los números naturales positivos distintos del 1, un número que no es primo se llama número compuesto. Escribe los números primos y compuestos del 2 al 12 de la siguiente manera.\n",
    "\n",
    "**Pauta de codificación:**\n",
    "- use la instrucción `for` para resolver este problema.\n",
    "- Cuando se utiliza una instrucción `for` anidada, se debe usar una expresión para determinar un número primo en el lazo `for` interno."
   ]
  },
  {
   "cell_type": "markdown",
   "id": "3f51863d",
   "metadata": {
    "id": "3f51863d"
   },
   "source": [
    "```\n",
    "2 : Primo\n",
    "3 : Primo\n",
    "4 : Compuesto\n",
    "5 : Primo\n",
    "6 : Compuesto\n",
    "7 : Primo\n",
    "8 : Compuesto\n",
    "9 : Compuesto\n",
    "10 : Compuesto\n",
    "11 : Primo\n",
    "12 : Compuesto\n",
    "```"
   ]
  },
  {
   "cell_type": "code",
   "execution_count": 2,
   "id": "0f214138",
   "metadata": {},
   "outputs": [
    {
     "name": "stdout",
     "output_type": "stream",
     "text": [
      "2 : Primo\n",
      "3 : Primo\n",
      "4 : Compuesto\n",
      "5 : Primo\n",
      "6 : Compuesto\n",
      "7 : Primo\n",
      "8 : Compuesto\n",
      "9 : Compuesto\n",
      "10 : Compuesto\n",
      "11 : Primo\n",
      "12 : Compuesto\n"
     ]
    }
   ],
   "source": [
    "for n in range(2, 13):\n",
    "    es_primo = True\n",
    "    for i in range(2, n):\n",
    "        if n % i == 0:\n",
    "            es_primo = False\n",
    "            break\n",
    "    if es_primo:\n",
    "        print(f\"{n} : Primo\")\n",
    "    else:\n",
    "        print(f\"{n} : Compuesto\")"
   ]
  },
  {
   "cell_type": "markdown",
   "id": "2c5c46fe",
   "metadata": {
    "id": "2c5c46fe"
   },
   "source": [
    "___"
   ]
  },
  {
   "cell_type": "markdown",
   "id": "ed8d04c5",
   "metadata": {
    "id": "ed8d04c5"
   },
   "source": [
    "## Q 06-01\n",
    "\n",
    "Un número de Armstrong es un número entero de tres dígitos que es igual a la suma de los cubos de cada dígito.\n",
    "\n",
    "Encuentre todos los números de Armstrong entre enteros de tres dígitos e imprímalos de la siguiente manera.\n",
    "\n",
    "\n",
    "**Pauta de codificación:** todos los números del 100 al 999 deben buscarse utilizando la instrucción `for`.\n",
    "\n",
    "**Respuesta:**"
   ]
  },
  {
   "cell_type": "code",
   "execution_count": null,
   "id": "69d353b0",
   "metadata": {},
   "outputs": [],
   "source": [
    "for num in range(100, 1000):\n",
    "    d1 = num // 100\n",
    "    d2 = (num // 10) % 10\n",
    "    d3 = num % 10\n",
    "    if num == d1**3 + d2**3 + d3**3:\n",
    "        print(num)"
   ]
  },
  {
   "cell_type": "markdown",
   "id": "5f26e5d1",
   "metadata": {
    "id": "5f26e5d1"
   },
   "source": [
    "___"
   ]
  },
  {
   "cell_type": "markdown",
   "id": "90d32126",
   "metadata": {
    "id": "90d32126"
   },
   "source": [
    "## Q 07-01\n",
    "\n",
    "Si hay dos listas `l1` y `l2` con las siguientes cadenas, use la combinación de `l1` y `l2` para imprimir de la siguiente manera.\n",
    "\n",
    "**Pauta de codificación:** use bucles anidados e imprímalos.\n",
    "\n",
    "```\n",
    "l1 = ['I like','I love']\n",
    "l1 = ['pancake.','kiwi juice.','espresso.']\n",
    "```\n",
    "\n",
    "### Output\n",
    "```\n",
    "I like pancake.\n",
    "I like kiwi juice.\n",
    "I like espresso.\n",
    "I love pancake.\n",
    "I love kiwi juice.\n",
    "I love espresso.\n",
    "```"
   ]
  },
  {
   "cell_type": "code",
   "execution_count": 3,
   "id": "9dd9abef",
   "metadata": {},
   "outputs": [
    {
     "name": "stdout",
     "output_type": "stream",
     "text": [
      "I like pancake.\n",
      "I like kiwi juice.\n",
      "I like espresso.\n",
      "I love pancake.\n",
      "I love kiwi juice.\n",
      "I love espresso.\n"
     ]
    }
   ],
   "source": [
    "l1 = ['I like','I love']\n",
    "l2 = ['pancake.','kiwi juice.','espresso.']\n",
    "for x in l1:\n",
    "    for y in l2:\n",
    "        print(x, y)"
   ]
  },
  {
   "cell_type": "markdown",
   "id": "72e2b7fd",
   "metadata": {
    "id": "72e2b7fd"
   },
   "source": [
    "___"
   ]
  },
  {
   "cell_type": "markdown",
   "id": "ae04da5e",
   "metadata": {
    "id": "ae04da5e"
   },
   "source": [
    "## Q 08-01\n",
    "\n",
    "El diccionario de personas se define de la siguiente manera.\n",
    "\n",
    "Agregue un nuevo elemento a este diccionario de personas con la clave 'Padre' y el valor 'John Doe'.\n",
    "\n",
    "**Pauta de codificación:** después de definir el diccionario de personas, escriba el código para agregar nuevos elementos.\n",
    "\n",
    "`person = {'Name':'David Doe', 'Age':26, 'Weight':82, 'Job':'Data Scientist'}`"
   ]
  },
  {
   "cell_type": "code",
   "execution_count": 4,
   "id": "4e50d661",
   "metadata": {},
   "outputs": [
    {
     "name": "stdout",
     "output_type": "stream",
     "text": [
      "{'Name': 'David Doe', 'Age': 26, 'Weight': 82, 'Job': 'Data Scientist', 'Padre': 'John Doe'}\n"
     ]
    }
   ],
   "source": [
    "person = {'Name':'David Doe', 'Age':26, 'Weight':82, 'Job':'Data Scientist'}\n",
    "person['Padre'] = 'John Doe'\n",
    "print(person)"
   ]
  },
  {
   "cell_type": "markdown",
   "id": "14cefe39",
   "metadata": {
    "id": "14cefe39"
   },
   "source": [
    "___"
   ]
  },
  {
   "cell_type": "markdown",
   "id": "31f3a64a",
   "metadata": {
    "id": "31f3a64a"
   },
   "source": [
    "## Q 09-01\n",
    "\n",
    "La matriz bidimensional `a` contiene los valores `[[1, 2], [3, 4], [5, 6]]`.\n",
    "\n",
    "Cambie esta matriz bidimensional a una matriz unidimensional como `[1, 2, 3, 4, 5, 6]` e imprímala.\n",
    "\n",
    "\n",
    "**Pauta de codificación:** use un bucle `for`. Defina una nueva matriz y coloque los elementos de a en esta matriz."
   ]
  },
  {
   "cell_type": "code",
   "execution_count": 5,
   "id": "dc7d1d7c",
   "metadata": {},
   "outputs": [
    {
     "name": "stdout",
     "output_type": "stream",
     "text": [
      "[1, 2, 3, 4, 5, 6]\n"
     ]
    }
   ],
   "source": [
    "a = [[1, 2], [3, 4], [5, 6]]\n",
    "b = []\n",
    "for fila in a:\n",
    "    for elemento in fila:\n",
    "        b.append(elemento)\n",
    "print(b)"
   ]
  },
  {
   "cell_type": "markdown",
   "id": "1de6c330",
   "metadata": {
    "id": "1de6c330"
   },
   "source": [
    "___"
   ]
  },
  {
   "cell_type": "markdown",
   "id": "da7510f4",
   "metadata": {
    "id": "da7510f4"
   },
   "source": [
    "## Q 10-01\n",
    "\n",
    "Dada un diccionario en la variable **maria** que contiene las puntuaciones de los cursos 'coreano', 'inglés', 'matemáticas' y 'ciencia', se almacenan como clave:valor. Imprima el puntaje promedio para los puntajes de las asignaturas de maría.\n",
    "\n",
    "**Guía de codificación:** Utilice los métodos de diccionario **values()** y **len()** funciones.\n",
    "\n",
    "`maria = { 'korean':94, 'english':91, 'maths':89, 'science':83 }`"
   ]
  },
  {
   "cell_type": "code",
   "execution_count": 6,
   "id": "d6c5a268",
   "metadata": {},
   "outputs": [
    {
     "name": "stdout",
     "output_type": "stream",
     "text": [
      "89.25\n"
     ]
    }
   ],
   "source": [
    "maria = { 'korean':94, 'english':91, 'maths':89, 'science':83 }\n",
    "promedio = sum(maria.values()) / len(maria)\n",
    "print(promedio)"
   ]
  },
  {
   "cell_type": "markdown",
   "id": "5da8f7b1",
   "metadata": {
    "id": "5da8f7b1"
   },
   "source": [
    "___"
   ]
  },
  {
   "cell_type": "markdown",
   "id": "8253ec65",
   "metadata": {
    "id": "8253ec65"
   },
   "source": [
    "## Q 11-01\n",
    "\n",
    "Declare una variable `school` con un diccionario anidado de la siguiente manera.\n",
    "\n",
    "```\n",
    "school = {\n",
    "    'kim':{ 'age':16, 'hei':170, grade:3 },\n",
    "    'lee':{ 'age':15, 'hei':165, grade:2 },\n",
    "    'cho':{ 'age':14, 'hei':167, grade:1 },\n",
    "}\n",
    "```\n",
    "\n",
    "\n",
    "Luego, use la función `deepcopy()` del módulo de copia para escribir un programa que 'copie' a otra variable, `school2`. (Verifique que `school` y `school2` sean variables diferentes a través del operador `is`).\n",
    "\n",
    "**Pauta de codificación:** Imprima el resultado de `school is school2`, que debe ser falso."
   ]
  },
  {
   "cell_type": "code",
   "execution_count": 7,
   "id": "60bf1342",
   "metadata": {},
   "outputs": [
    {
     "name": "stdout",
     "output_type": "stream",
     "text": [
      "False\n"
     ]
    }
   ],
   "source": [
    "import copy\n",
    "school = {\n",
    "    'kim':{ 'age':16, 'hei':170, 'grade':3 },\n",
    "    'lee':{ 'age':15, 'hei':165, 'grade':2 },\n",
    "    'cho':{ 'age':14, 'hei':167, 'grade':1 },\n",
    "}\n",
    "school2 = copy.deepcopy(school)\n",
    "print(school is school2)  # False"
   ]
  },
  {
   "cell_type": "markdown",
   "id": "e42ee0e1",
   "metadata": {
    "id": "e42ee0e1"
   },
   "source": [
    "___"
   ]
  },
  {
   "cell_type": "markdown",
   "id": "eb238705",
   "metadata": {
    "id": "eb238705"
   },
   "source": [
    "## Q 12-01\n",
    "\n",
    "Hay una tupla de puntuaciones de la siguiente manera.\n",
    "\n",
    "```\n",
    "scores = (\n",
    "    ('DongKyu Park' , 88, 95, 90),\n",
    "    ('YoungMin Kang', 85, 90, 95),\n",
    "    ('DongMin Park' , 70, 90, 80),\n",
    "    ('Seungloo Hong', 90, 90, 95),\n",
    ")\n",
    "```\n",
    "\n",
    "\n",
    "Esta tupla contiene información sobre cuatro estudiantes.\n",
    "\n",
    "En esta información, el nombre del estudiante y las calificaciones en inglés, matemáticas y ciencias forman una tupla.\n",
    "\n",
    "Por ejemplo, 'DongKyu Park' tiene un puntaje de inglés de 88, un puntaje de matemáticas de 95 y un puntaje de ciencias de 90.\n",
    "\n",
    "Extraiga solo puntajes matemáticos desempaquetando usando la función zip en la tupla del puntaje. Escriba un código que calcule el promedio de estos puntajes matemáticos extraídos.\n",
    "\n",
    "**Pauta de código:** use la función **zip** para resolver el problema"
   ]
  },
  {
   "cell_type": "code",
   "execution_count": 9,
   "id": "e583821a",
   "metadata": {},
   "outputs": [
    {
     "name": "stdout",
     "output_type": "stream",
     "text": [
      "Puntajes de matemáticas: (95, 90, 90, 90)\n",
      "Promedio de matemáticas: 91.25\n"
     ]
    }
   ],
   "source": [
    "scores = (\n",
    "    ('DongKyu Park' , 88, 95, 90),\n",
    "    ('YoungMin Kang', 85, 90, 95),\n",
    "    ('DongMin Park' , 70, 90, 80),\n",
    "    ('Seungloo Hong', 90, 90, 95),\n",
    ")\n",
    "\n",
    "# Usando zip para desempaquetar\n",
    "nombres, ingles, matematicas, ciencias = zip(*scores)\n",
    "\n",
    "# Calcular promedio de matemáticas\n",
    "promedio_matematicas = sum(matematicas) / len(matematicas)\n",
    "\n",
    "print(\"Puntajes de matemáticas:\", matematicas)\n",
    "print(\"Promedio de matemáticas:\", promedio_matematicas)\n"
   ]
  },
  {
   "cell_type": "markdown",
   "id": "ed04e881",
   "metadata": {
    "id": "ed04e881"
   },
   "source": [
    "## Fin"
   ]
  }
 ],
 "metadata": {
  "colab": {
   "provenance": []
  },
  "kernelspec": {
   "display_name": "Python 3",
   "language": "python",
   "name": "python3"
  },
  "language_info": {
   "codemirror_mode": {
    "name": "ipython",
    "version": 3
   },
   "file_extension": ".py",
   "mimetype": "text/x-python",
   "name": "python",
   "nbconvert_exporter": "python",
   "pygments_lexer": "ipython3",
   "version": "3.13.7"
  }
 },
 "nbformat": 4,
 "nbformat_minor": 5
}
