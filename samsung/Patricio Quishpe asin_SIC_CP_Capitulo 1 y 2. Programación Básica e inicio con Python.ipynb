{
 "cells": [
  {
   "cell_type": "markdown",
   "id": "f34adb44",
   "metadata": {
    "id": "f34adb44"
   },
   "source": [
    "# Actividades Capítulo 1.\n",
    "\n",
    "\n",
    "# Concepto básico de programación e inicio en Python\n",
    "\n",
    "## Resumen de actividades\n",
    "\n",
    "- **Unidad 1**: Programación secuencial\n",
    "- **Unidad 2**: Planificación de la programación\n",
    "- **Unidad 3**: Fundamentos de los tipos de datos numéricos y operaciones aritméticas\n",
    "- **Unidad 4**: Variables e insumos\n",
    "- **Unidad 5**: Operaciones lógicas y de comparación\n",
    "- **Unidad 6**: Enunciado condicional-1: Condiciones y toma de decisiones\n",
    "- **Unidad 7**: Enunciado condicional-2: Tomar decisiones en dos direcciones y aplicar enunciados condicionales\n",
    "- **Unidad 8**: Bucle-1\n",
    "- **Unidad 9**: Bucle-2\n",
    "- **Unidad 10.** Tipos de datos lista y tupla Tipos de datos lista y tupla\n",
    "- **Unidad 11.** Tipos de datos de diccionario Tipos de datos de diccionario\n",
    "- **Unidad 12.** Tipos de datos de secuencia\n",
    "- **Unidad 13.** Listas 2D\n",
    "- **Unidad 14.** Método del diccionario-1\n",
    "- **Unidad 15.** Método del diccionario-2\n",
    "- **Unidad 16.** Establecer tipos de datos\n"
   ]
  },
  {
   "cell_type": "markdown",
   "id": "ac1e9b02",
   "metadata": {
    "id": "ac1e9b02"
   },
   "source": [
    "# Actividad: Concepto de algoritmo.\n",
    "\n",
    "Escriva son sus propias palabras el concepto que tiene de algoritmo.\n",
    "\n",
    "**Respuesta:**\n",
    "\n",
    "Un algoritmo es un conjunto de pasos ordenados que permiten resolver un problema o realizar una tarea de manera eficiente.\n",
    "\n",
    "\n",
    "**Algoritmos cotidiano**\n",
    "Escriba con detalles algún algoritmo que usted haya desarrollado continuamente durante sus actividades diarias.\n",
    "    \n",
    "Ejemplo: Preparar café por la mañana.\n",
    "\n",
    "1- Llenar la cafetera con agua.\n",
    "\n",
    "2- Colocar el filtro y el café molido.\n",
    "\n",
    "3- Encender la cafetera y esperar a que el café esté listo."
   ]
  },
  {
   "cell_type": "markdown",
   "id": "0da9ca7e",
   "metadata": {
    "id": "0da9ca7e"
   },
   "source": [
    "# Actividad: Programación secuencial.\n",
    "\n",
    "A continuación nombre las 3 estructuras básicas de programación.\n",
    "\n",
    "Espacio para respuestas:\n",
    "    \n",
    "- 1-Secuencial\n",
    "- 2-Seleccion\n",
    "- 3-Repeticion\n",
    "\n"
   ]
  },
  {
   "cell_type": "markdown",
   "id": "49829fb9",
   "metadata": {
    "id": "49829fb9"
   },
   "source": [
    "# Tipos de datos numéricos y operaciones matemáticas.\n",
    "\n",
    "Ejecuta el código de la siguiente celda, verifica el tipo de dato retornado en cada una de las asignaciones, para ello use el comando type(variable) en combinacion con el comando print()\n",
    "\n"
   ]
  },
  {
   "cell_type": "code",
   "execution_count": 2,
   "id": "96922b41",
   "metadata": {
    "id": "96922b41"
   },
   "outputs": [
    {
     "name": "stdout",
     "output_type": "stream",
     "text": [
      "<class 'str'>\n",
      "<class 'int'>\n",
      "<class 'float'>\n",
      "<class 'list'>\n",
      "<class 'dict'>\n"
     ]
    }
   ],
   "source": [
    "texto = 'Hola! bienvenido al mundo de la programación'\n",
    "print(type(texto))  # Verifica el tipo de la variable texto\n",
    "\n",
    "entero = 4\n",
    "print(type(entero))  # Verifica el tipo de la variable entero\n",
    "\n",
    "valor_flotante = 3.4\n",
    "print(type(valor_flotante))  # Verifica el tipo de la variable valor_flotante\n",
    "\n",
    "ejemplo_de_lista = [1,2,3,4,4]\n",
    "print(type(ejemplo_de_lista))  # Verifica el tipo de la variable ejemplo_de_lista\n",
    "\n",
    "ejemplo_de_diccionario = {'name':'Jhon Doe','edge':64}\n",
    "print(type(ejemplo_de_diccionario))  # Verifica el tipo de la variable ejemplo_de_diccionario\n",
    "\n",
    "\n"
   ]
  },
  {
   "cell_type": "markdown",
   "id": "c718ddbf",
   "metadata": {
    "id": "c718ddbf"
   },
   "source": [
    "### **Actividad: Operaciones Matemáticas en Python**\n",
    "\n",
    "En esta actividad, realizarás operaciones matemáticas básicas en Python.\n",
    "\n",
    "#### **Instrucciones:**\n",
    "\n",
    "1. Crea una variable `numero1` y asígnale un número entero.\n",
    "2. Crea una variable `numero2` y asígnale otro número entero.\n",
    "3. Suma los valores de `numero1` y `numero2`, y almacena el resultado en una variable llamada `suma`.\n",
    "4. Resta `numero2` de `numero1` y almacena el resultado en una variable llamada `resta`.\n",
    "5. Multiplica `numero1` y `numero2`, y almacena el resultado en una variable llamada `multiplicacion`.\n",
    "6. Divide `numero1` entre `numero2` y almacena el resultado en una variable llamada `division`.\n",
    "\n",
    "Completa el código en Python con las operaciones y luego imprime los valores de `suma`, `resta`, `multiplicacion`, y `division`."
   ]
  },
  {
   "cell_type": "code",
   "execution_count": 3,
   "id": "71ff6ca5",
   "metadata": {
    "id": "71ff6ca5"
   },
   "outputs": [
    {
     "name": "stdout",
     "output_type": "stream",
     "text": [
      "Suma: 15\n",
      "Resta: 5\n",
      "Multiplicación: 50\n",
      "División: 2.0\n"
     ]
    }
   ],
   "source": [
    "# Desarrolla el código en la siguiente celda.\n",
    "\n",
    "# Paso 1 y 2: crear variables\n",
    "numero1 = 10\n",
    "numero2 = 5\n",
    "\n",
    "# Paso 3: suma\n",
    "suma = numero1 + numero2\n",
    "\n",
    "# Paso 4: resta\n",
    "resta = numero1 - numero2\n",
    "\n",
    "# Paso 5: multiplicación\n",
    "multiplicacion = numero1 * numero2\n",
    "\n",
    "# Paso 6: división\n",
    "division = numero1 / numero2\n",
    "\n",
    "# Imprimir resultados\n",
    "print(\"Suma:\", suma)\n",
    "print(\"Resta:\", resta)\n",
    "print(\"Multiplicación:\", multiplicacion)\n",
    "print(\"División:\", division)\n",
    "\n",
    "\n",
    "\n"
   ]
  },
  {
   "cell_type": "markdown",
   "id": "5a0d7513",
   "metadata": {
    "id": "5a0d7513"
   },
   "source": [
    "# Resumen de los operadores lógicos usados en Python.\n",
    "\n",
    "\n",
    "\n",
    "\n",
    "| **Operador** | **Descripción**                        |\n",
    "|:------------:|:--------------------------------------:|\n",
    "|    `and`     | <span style=\"font-size:larger\">Devuelve True si ambos operandos son True.</span> |\n",
    "|     `or`     | <span style=\"font-size:larger\">Devuelve True si al menos uno de los operandos es True.</span> |\n",
    "|    `not`     | <span style=\"font-size:larger\">Invierte el valor del operando; True se convierte en False y viceversa.</span> |\n"
   ]
  },
  {
   "cell_type": "code",
   "execution_count": 4,
   "id": "978c0b04",
   "metadata": {
    "id": "978c0b04"
   },
   "outputs": [
    {
     "name": "stdout",
     "output_type": "stream",
     "text": [
      "Puede conducir (and): True\n",
      "Puede entrar (or): True\n",
      "Es menor de edad (not): False\n"
     ]
    }
   ],
   "source": [
    "# Desarrolla en la siguiente celda.\n",
    "# Variables de ejemplo\n",
    "edad = 20\n",
    "tiene_licencia = True\n",
    "\n",
    "# Usando 'and'\n",
    "puede_conducir = edad >= 18 and tiene_licencia\n",
    "print(\"Puede conducir (and):\", puede_conducir)\n",
    "\n",
    "# Usando 'or'\n",
    "puede_entrar = edad >= 18 or tiene_licencia\n",
    "print(\"Puede entrar (or):\", puede_entrar)\n",
    "\n",
    "# Usando 'not'\n",
    "es_menor = not edad >= 18\n",
    "print(\"Es menor de edad (not):\", es_menor)\n",
    "\n",
    "\n",
    "\n",
    "\n"
   ]
  },
  {
   "cell_type": "markdown",
   "id": "3db9e2cb",
   "metadata": {
    "id": "3db9e2cb"
   },
   "source": [
    "<!DOCTYPE html>\n",
    "<html>\n",
    "<head>\n",
    "<style>\n",
    "  table {\n",
    "    font-size: 24px;\n",
    "  }\n",
    "  th, td {\n",
    "    padding: 10px;\n",
    "    text-align: center;\n",
    "  }\n",
    "</style>\n",
    "</head>\n",
    "<body>\n",
    "  <h2>Comparadores Lógicos en Python</h2>\n",
    "  <table>\n",
    "    <tr>\n",
    "      <th><b>Comparadores</b></th>\n",
    "      <th><b>Descripción</b></th>\n",
    "    </tr>\n",
    "    <tr>\n",
    "      <td>==</td>\n",
    "      <td>Igual a (compara si dos valores son iguales)</td>\n",
    "    </tr>\n",
    "    <tr>\n",
    "      <td>!=</td>\n",
    "      <td>Diferente de (compara si dos valores son distintos)</td>\n",
    "    </tr>\n",
    "    <tr>\n",
    "      <td>&lt;</td>\n",
    "      <td>Menor que (compara si un valor es menor que otro)</td>\n",
    "    </tr>\n",
    "    <tr>\n",
    "      <td>&gt;</td>\n",
    "      <td>Mayor que (compara si un valor es mayor que otro)</td>\n",
    "    </tr>\n",
    "    <tr>\n",
    "      <td>&lt;=</td>\n",
    "      <td>Menor o igual que (compara si un valor es menor o igual que otro)</td>\n",
    "    </tr>\n",
    "    <tr>\n",
    "      <td>&gt;=</td>\n",
    "      <td>Mayor o igual que (compara si un valor es mayor o igual que otro)</td>\n",
    "    </tr>\n",
    "  </table>\n",
    "</body>\n",
    "</html>\n"
   ]
  },
  {
   "cell_type": "markdown",
   "id": "1de5a5f0",
   "metadata": {
    "id": "1de5a5f0"
   },
   "source": [
    "### **Actividad: Uso de operadores**\n",
    "\n",
    "En esta actividad, usaras los operadores\n",
    "\n",
    "#### **Instrucciones:**\n",
    "\n",
    "1. Generar un loop que revise cada uno de los elementos contenidos en la lista llamada \"lista_de_elementos\".\n",
    "2. Revisar el tipo de elemento.\n",
    "3. Comparar si el valor esta por debajo del umbral definido, en ese caso imprimir la palabra ¨aprobado¨ en caso contrario imprimir ¨Rechazado¨\n",
    "4. En el código incluya dos contadores, para contabilizar el número de aprobados y rechazados, al final del codigo imprima el total de cada uno de ellos.\n",
    "5. Contabilize los elementos que son tipo string y de igual forma imprima final del loop el resultado.\n"
   ]
  },
  {
   "cell_type": "code",
   "execution_count": 5,
   "id": "89eafba9",
   "metadata": {
    "id": "89eafba9"
   },
   "outputs": [
    {
     "name": "stdout",
     "output_type": "stream",
     "text": [
      "10 -> rechazado\n",
      "3.14 -> rechazado\n",
      "-5 -> rechazado\n",
      "42 -> rechazado\n",
      "-8.9 -> rechazado\n",
      "100.5 -> rechazado\n",
      "-15 -> aprobado\n",
      "5.5 -> rechazado\n",
      "-20 -> aprobado\n",
      "123 -> rechazado\n",
      "-2.5 -> rechazado\n",
      "Total aprobados: 2\n",
      "Total rechazados: 9\n",
      "Total de strings: 10\n"
     ]
    }
   ],
   "source": [
    "umbral = -10\n",
    "lista_de_elementos = [10, 3.14, \"7\", -5, \"2.718\", 42, \"Python\", -8.9, \"Hola\", 100.5, \"Mundo\", -15, \"GPT-3\", 5.5, \"AI\", -20, \"2023\", 123, \"OpenAI\", -2.5, \"Ejemplo\"]\n",
    "\n",
    "# Inicializar contadores\n",
    "aprobados = 0\n",
    "rechazados = 0\n",
    "conteo_strings = 0\n",
    "\n",
    "# Loop para revisar cada elemento\n",
    "for elemento in lista_de_elementos:\n",
    "    if isinstance(elemento, str):\n",
    "        conteo_strings += 1\n",
    "    elif elemento < umbral:\n",
    "        print(elemento, \"-> aprobado\")\n",
    "        aprobados += 1\n",
    "    else:\n",
    "        print(elemento, \"-> rechazado\")\n",
    "        rechazados += 1\n",
    "\n",
    "# Imprimir resultados finales\n",
    "print(\"Total aprobados:\", aprobados)\n",
    "print(\"Total rechazados:\", rechazados)\n",
    "print(\"Total de strings:\", conteo_strings)\n"
   ]
  },
  {
   "cell_type": "markdown",
   "id": "c6648fc4",
   "metadata": {
    "id": "c6648fc4"
   },
   "source": [
    "# Actividad: Creación de una Base de Datos en Python\n",
    "\n",
    "## Descripción\n",
    "\n",
    "A continuación debes crear una base de datos simple utilizando listas en Python. Una base de datos es una colección de datos organizados que se utilizan para almacenar y recuperar información. En este caso, simularemos una base de datos de estudiantes con información básica.\n",
    "\n",
    "## Instrucciones\n",
    "\n",
    "1. Crea un programa en Python que permita a los usuarios realizar las siguientes acciones:\n",
    "\n",
    "   a. Agregar un nuevo estudiante a la base de datos. Cada estudiante debe tener al menos un nombre, un número de identificación y una edad. Puedes utilizar una lista para almacenar estos datos.\n",
    "\n",
    "   b. Mostrar la lista de estudiantes en la base de datos.\n",
    "\n",
    "   c. Buscar un estudiante por su número de identificación y mostrar su información.\n",
    "\n",
    "   d. Actualizar la información de un estudiante existente en la base de datos.\n",
    "\n",
    "   e. Eliminar un estudiante de la base de datos.\n",
    "\n",
    "2. Utiliza listas de Python para almacenar la información de los estudiantes. Por ejemplo, puedes crear una lista de diccionarios, donde cada diccionario representa un estudiante con sus datos.\n",
    "\n",
    "3. Ofrece un menú interactivo que permita a los usuarios elegir las acciones que desean realizar en la base de datos.\n",
    "\n",
    "4. Implementa la lógica necesaria para cada acción, como agregar, buscar, actualizar o eliminar estudiantes.\n",
    "\n",
    "## Ejemplo de Base de Datos\n",
    "\n",
    "A continuación, se muestra un ejemplo de cómo podría verse una base de datos de estudiantes utilizando listas y diccionarios:\n",
    "\n",
    "```python\n",
    "base_de_datos = [\n",
    "    {\"nombre\": \"Juan\", \"id\": 1, \"edad\": 20},\n",
    "    {\"nombre\": \"María\", \"id\": 2, \"edad\": 22},\n",
    "    {\"nombre\": \"Carlos\", \"id\": 3, \"edad\": 21}\n",
    "]\n",
    "\n",
    "Desarrolle el código en la siguiente lista."
   ]
  },
  {
   "cell_type": "code",
   "execution_count": 6,
   "id": "55f534ee",
   "metadata": {
    "id": "55f534ee"
   },
   "outputs": [
    {
     "name": "stdout",
     "output_type": "stream",
     "text": [
      "\n",
      "--- Menú Base de Datos Estudiantes ---\n",
      "1. Mostrar estudiantes\n",
      "2. Agregar estudiante\n",
      "3. Buscar estudiante\n",
      "4. Actualizar estudiante\n",
      "5. Eliminar estudiante\n",
      "6. Salir\n",
      "{'nombre': 'Juan', 'id': 1, 'edad': 20}\n",
      "{'nombre': 'María', 'id': 2, 'edad': 22}\n",
      "{'nombre': 'Carlos', 'id': 3, 'edad': 21}\n",
      "\n",
      "--- Menú Base de Datos Estudiantes ---\n",
      "1. Mostrar estudiantes\n",
      "2. Agregar estudiante\n",
      "3. Buscar estudiante\n",
      "4. Actualizar estudiante\n",
      "5. Eliminar estudiante\n",
      "6. Salir\n",
      "Estudiante agregado exitosamente.\n",
      "\n",
      "--- Menú Base de Datos Estudiantes ---\n",
      "1. Mostrar estudiantes\n",
      "2. Agregar estudiante\n",
      "3. Buscar estudiante\n",
      "4. Actualizar estudiante\n",
      "5. Eliminar estudiante\n",
      "6. Salir\n",
      "Estudiante agregado exitosamente.\n",
      "\n",
      "--- Menú Base de Datos Estudiantes ---\n",
      "1. Mostrar estudiantes\n",
      "2. Agregar estudiante\n",
      "3. Buscar estudiante\n",
      "4. Actualizar estudiante\n",
      "5. Eliminar estudiante\n",
      "6. Salir\n",
      "\n",
      "--- Menú Base de Datos Estudiantes ---\n",
      "1. Mostrar estudiantes\n",
      "2. Agregar estudiante\n",
      "3. Buscar estudiante\n",
      "4. Actualizar estudiante\n",
      "5. Eliminar estudiante\n",
      "6. Salir\n",
      "\n",
      "--- Menú Base de Datos Estudiantes ---\n",
      "1. Mostrar estudiantes\n",
      "2. Agregar estudiante\n",
      "3. Buscar estudiante\n",
      "4. Actualizar estudiante\n",
      "5. Eliminar estudiante\n",
      "6. Salir\n",
      "\n",
      "--- Menú Base de Datos Estudiantes ---\n",
      "1. Mostrar estudiantes\n",
      "2. Agregar estudiante\n",
      "3. Buscar estudiante\n",
      "4. Actualizar estudiante\n",
      "5. Eliminar estudiante\n",
      "6. Salir\n",
      "\n",
      "--- Menú Base de Datos Estudiantes ---\n",
      "1. Mostrar estudiantes\n",
      "2. Agregar estudiante\n",
      "3. Buscar estudiante\n",
      "4. Actualizar estudiante\n",
      "5. Eliminar estudiante\n",
      "6. Salir\n",
      "\n",
      "--- Menú Base de Datos Estudiantes ---\n",
      "1. Mostrar estudiantes\n",
      "2. Agregar estudiante\n",
      "3. Buscar estudiante\n",
      "4. Actualizar estudiante\n",
      "5. Eliminar estudiante\n",
      "6. Salir\n",
      "\n",
      "--- Menú Base de Datos Estudiantes ---\n",
      "1. Mostrar estudiantes\n",
      "2. Agregar estudiante\n",
      "3. Buscar estudiante\n",
      "4. Actualizar estudiante\n",
      "5. Eliminar estudiante\n",
      "6. Salir\n",
      "\n",
      "--- Menú Base de Datos Estudiantes ---\n",
      "1. Mostrar estudiantes\n",
      "2. Agregar estudiante\n",
      "3. Buscar estudiante\n",
      "4. Actualizar estudiante\n",
      "5. Eliminar estudiante\n",
      "6. Salir\n",
      "\n",
      "--- Menú Base de Datos Estudiantes ---\n",
      "1. Mostrar estudiantes\n",
      "2. Agregar estudiante\n",
      "3. Buscar estudiante\n",
      "4. Actualizar estudiante\n",
      "5. Eliminar estudiante\n",
      "6. Salir\n",
      "\n",
      "--- Menú Base de Datos Estudiantes ---\n",
      "1. Mostrar estudiantes\n",
      "2. Agregar estudiante\n",
      "3. Buscar estudiante\n",
      "4. Actualizar estudiante\n",
      "5. Eliminar estudiante\n",
      "6. Salir\n",
      "\n",
      "--- Menú Base de Datos Estudiantes ---\n",
      "1. Mostrar estudiantes\n",
      "2. Agregar estudiante\n",
      "3. Buscar estudiante\n",
      "4. Actualizar estudiante\n",
      "5. Eliminar estudiante\n",
      "6. Salir\n"
     ]
    },
    {
     "ename": "KeyboardInterrupt",
     "evalue": "Interrupted by user",
     "output_type": "error",
     "traceback": [
      "\u001b[31m---------------------------------------------------------------------------\u001b[39m",
      "\u001b[31mKeyboardInterrupt\u001b[39m                         Traceback (most recent call last)",
      "\u001b[36mCell\u001b[39m\u001b[36m \u001b[39m\u001b[32mIn[6]\u001b[39m\u001b[32m, line 61\u001b[39m\n\u001b[32m     58\u001b[39m \u001b[38;5;28mprint\u001b[39m(\u001b[33m\"\u001b[39m\u001b[33m5. Eliminar estudiante\u001b[39m\u001b[33m\"\u001b[39m)\n\u001b[32m     59\u001b[39m \u001b[38;5;28mprint\u001b[39m(\u001b[33m\"\u001b[39m\u001b[33m6. Salir\u001b[39m\u001b[33m\"\u001b[39m)\n\u001b[32m---> \u001b[39m\u001b[32m61\u001b[39m opcion = \u001b[38;5;28;43minput\u001b[39;49m\u001b[43m(\u001b[49m\u001b[33;43m\"\u001b[39;49m\u001b[33;43mSeleccione una opción: \u001b[39;49m\u001b[33;43m\"\u001b[39;49m\u001b[43m)\u001b[49m\n\u001b[32m     63\u001b[39m \u001b[38;5;28;01mif\u001b[39;00m opcion == \u001b[33m\"\u001b[39m\u001b[33m1\u001b[39m\u001b[33m\"\u001b[39m:\n\u001b[32m     64\u001b[39m     mostrar_estudiantes()\n",
      "\u001b[36mFile \u001b[39m\u001b[32m~\\AppData\\Roaming\\Python\\Python313\\site-packages\\ipykernel\\kernelbase.py:1275\u001b[39m, in \u001b[36mKernel.raw_input\u001b[39m\u001b[34m(self, prompt)\u001b[39m\n\u001b[32m   1273\u001b[39m     msg = \u001b[33m\"\u001b[39m\u001b[33mraw_input was called, but this frontend does not support input requests.\u001b[39m\u001b[33m\"\u001b[39m\n\u001b[32m   1274\u001b[39m     \u001b[38;5;28;01mraise\u001b[39;00m StdinNotImplementedError(msg)\n\u001b[32m-> \u001b[39m\u001b[32m1275\u001b[39m \u001b[38;5;28;01mreturn\u001b[39;00m \u001b[38;5;28;43mself\u001b[39;49m\u001b[43m.\u001b[49m\u001b[43m_input_request\u001b[49m\u001b[43m(\u001b[49m\n\u001b[32m   1276\u001b[39m \u001b[43m    \u001b[49m\u001b[38;5;28;43mstr\u001b[39;49m\u001b[43m(\u001b[49m\u001b[43mprompt\u001b[49m\u001b[43m)\u001b[49m\u001b[43m,\u001b[49m\n\u001b[32m   1277\u001b[39m \u001b[43m    \u001b[49m\u001b[38;5;28;43mself\u001b[39;49m\u001b[43m.\u001b[49m\u001b[43m_parent_ident\u001b[49m\u001b[43m[\u001b[49m\u001b[33;43m\"\u001b[39;49m\u001b[33;43mshell\u001b[39;49m\u001b[33;43m\"\u001b[39;49m\u001b[43m]\u001b[49m\u001b[43m,\u001b[49m\n\u001b[32m   1278\u001b[39m \u001b[43m    \u001b[49m\u001b[38;5;28;43mself\u001b[39;49m\u001b[43m.\u001b[49m\u001b[43mget_parent\u001b[49m\u001b[43m(\u001b[49m\u001b[33;43m\"\u001b[39;49m\u001b[33;43mshell\u001b[39;49m\u001b[33;43m\"\u001b[39;49m\u001b[43m)\u001b[49m\u001b[43m,\u001b[49m\n\u001b[32m   1279\u001b[39m \u001b[43m    \u001b[49m\u001b[43mpassword\u001b[49m\u001b[43m=\u001b[49m\u001b[38;5;28;43;01mFalse\u001b[39;49;00m\u001b[43m,\u001b[49m\n\u001b[32m   1280\u001b[39m \u001b[43m\u001b[49m\u001b[43m)\u001b[49m\n",
      "\u001b[36mFile \u001b[39m\u001b[32m~\\AppData\\Roaming\\Python\\Python313\\site-packages\\ipykernel\\kernelbase.py:1320\u001b[39m, in \u001b[36mKernel._input_request\u001b[39m\u001b[34m(self, prompt, ident, parent, password)\u001b[39m\n\u001b[32m   1317\u001b[39m \u001b[38;5;28;01mexcept\u001b[39;00m \u001b[38;5;167;01mKeyboardInterrupt\u001b[39;00m:\n\u001b[32m   1318\u001b[39m     \u001b[38;5;66;03m# re-raise KeyboardInterrupt, to truncate traceback\u001b[39;00m\n\u001b[32m   1319\u001b[39m     msg = \u001b[33m\"\u001b[39m\u001b[33mInterrupted by user\u001b[39m\u001b[33m\"\u001b[39m\n\u001b[32m-> \u001b[39m\u001b[32m1320\u001b[39m     \u001b[38;5;28;01mraise\u001b[39;00m \u001b[38;5;167;01mKeyboardInterrupt\u001b[39;00m(msg) \u001b[38;5;28;01mfrom\u001b[39;00m\u001b[38;5;250m \u001b[39m\u001b[38;5;28;01mNone\u001b[39;00m\n\u001b[32m   1321\u001b[39m \u001b[38;5;28;01mexcept\u001b[39;00m \u001b[38;5;167;01mException\u001b[39;00m:\n\u001b[32m   1322\u001b[39m     \u001b[38;5;28mself\u001b[39m.log.warning(\u001b[33m\"\u001b[39m\u001b[33mInvalid Message:\u001b[39m\u001b[33m\"\u001b[39m, exc_info=\u001b[38;5;28;01mTrue\u001b[39;00m)\n",
      "\u001b[31mKeyboardInterrupt\u001b[39m: Interrupted by user"
     ]
    }
   ],
   "source": [
    "#Recuerde agregar comentarios donde se describa el funcionamiento de las diferentes secciones.\n",
    "\n",
    "# Base de datos inicial\n",
    "base_de_datos = [\n",
    "    {\"nombre\": \"Juan\", \"id\": 1, \"edad\": 20},\n",
    "    {\"nombre\": \"María\", \"id\": 2, \"edad\": 22},\n",
    "    {\"nombre\": \"Carlos\", \"id\": 3, \"edad\": 21}\n",
    "]\n",
    "\n",
    "def mostrar_estudiantes():\n",
    "    if base_de_datos:\n",
    "        for estudiante in base_de_datos:\n",
    "            print(estudiante)\n",
    "    else:\n",
    "        print(\"No hay estudiantes en la base de datos.\")\n",
    "\n",
    "def agregar_estudiante():\n",
    "    nombre = input(\"Ingrese el nombre del estudiante: \")\n",
    "    id_est = int(input(\"Ingrese el ID del estudiante: \"))\n",
    "    edad = int(input(\"Ingrese la edad del estudiante: \"))\n",
    "    base_de_datos.append({\"nombre\": nombre, \"id\": id_est, \"edad\": edad})\n",
    "    print(\"Estudiante agregado exitosamente.\")\n",
    "\n",
    "def buscar_estudiante():\n",
    "    id_est = int(input(\"Ingrese el ID del estudiante a buscar: \"))\n",
    "    for estudiante in base_de_datos:\n",
    "        if estudiante[\"id\"] == id_est:\n",
    "            print(\"Estudiante encontrado:\", estudiante)\n",
    "            return\n",
    "    print(\"Estudiante no encontrado.\")\n",
    "\n",
    "def actualizar_estudiante():\n",
    "    id_est = int(input(\"Ingrese el ID del estudiante a actualizar: \"))\n",
    "    for estudiante in base_de_datos:\n",
    "        if estudiante[\"id\"] == id_est:\n",
    "            estudiante[\"nombre\"] = input(\"Ingrese nuevo nombre: \")\n",
    "            estudiante[\"edad\"] = int(input(\"Ingrese nueva edad: \"))\n",
    "            print(\"Estudiante actualizado exitosamente.\")\n",
    "            return\n",
    "    print(\"Estudiante no encontrado.\")\n",
    "\n",
    "def eliminar_estudiante():\n",
    "    id_est = int(input(\"Ingrese el ID del estudiante a eliminar: \"))\n",
    "    for i, estudiante in enumerate(base_de_datos):\n",
    "        if estudiante[\"id\"] == id_est:\n",
    "            base_de_datos.pop(i)\n",
    "            print(\"Estudiante eliminado exitosamente.\")\n",
    "            return\n",
    "    print(\"Estudiante no encontrado.\")\n",
    "\n",
    "# Menú interactivo\n",
    "while True:\n",
    "    print(\"\\n--- Menú Base de Datos Estudiantes ---\")\n",
    "    print(\"1. Mostrar estudiantes\")\n",
    "    print(\"2. Agregar estudiante\")\n",
    "    print(\"3. Buscar estudiante\")\n",
    "    print(\"4. Actualizar estudiante\")\n",
    "    print(\"5. Eliminar estudiante\")\n",
    "    print(\"6. Salir\")\n",
    "\n",
    "    opcion = input(\"Seleccione una opción: \")\n",
    "\n",
    "    if opcion == \"1\":\n",
    "        mostrar_estudiantes()\n",
    "    elif opcion == \"2\":\n",
    "        agregar_estudiante()\n",
    "    elif opcion == \"3\":\n",
    "        busc\n",
    "\n",
    "\n",
    "\n",
    "\n",
    "\n",
    "\n",
    "\n"
   ]
  },
  {
   "cell_type": "markdown",
   "id": "04f4b23d",
   "metadata": {
    "id": "04f4b23d"
   },
   "source": [
    "# Actividad: Rebanado de listas.\n",
    "\n",
    "Revisa la unidad 10, sección 5.3 aparece un resumen de los comandos para tomar secciones de una lista, aplica los comandos en la siguiente lista:\n",
    "\n",
    "\n",
    "list_notas = [15, 21, 24, 40, 13, 14, 18, 17, 14.5]\n",
    "\n"
   ]
  },
  {
   "cell_type": "code",
   "execution_count": null,
   "id": "88620eb9",
   "metadata": {
    "id": "88620eb9"
   },
   "outputs": [
    {
     "name": "stdout",
     "output_type": "stream",
     "text": [
      "[15, 21, 24, 40, 13, 14, 18, 17, 14.5]\n",
      "[24, 40, 13]\n",
      "[15, 21, 24, 40]\n",
      "[40, 13, 14, 18, 17, 14.5]\n",
      "[15, 24, 13, 18, 14.5]\n",
      "[14.5, 17, 18, 14, 13, 40, 24, 21, 15]\n"
     ]
    }
   ],
   "source": [
    "# Espacio para desarrollar las pruebas, si tienes alguna duda o comentario adicional\n",
    "# lo puedes dejar planteado acá.\n",
    "\n",
    "list_notas = [15, 21, 24, 40, 13, 14, 18, 17, 14.5]\n",
    "list_notas[::2]\n",
    "\n",
    "list_notas = [15, 21, 24, 40, 13, 14, 18, 17, 14.5]\n",
    "\n",
    "# Tomar todos los elementos\n",
    "print(list_notas[:])  # [15, 21, 24, 40, 13, 14, 18, 17, 14.5]\n",
    "\n",
    "# Tomar elementos desde el índice 2 hasta el 5 (excluyendo el 5)\n",
    "print(list_notas[2:5])  # [24, 40, 13]\n",
    "\n",
    "# Tomar elementos desde el inicio hasta el índice 4 (excluyendo el 4)\n",
    "print(list_notas[:4])  # [15, 21, 24, 40]\n",
    "\n",
    "# Tomar elementos desde el índice 3 hasta el final\n",
    "print(list_notas[3:])  # [40, 13, 14, 18, 17, 14.5]\n",
    "\n",
    "# Tomar elementos de 2 en 2\n",
    "print(list_notas[::2])  # [15, 24, 13, 18, 14.5]\n",
    "\n",
    "# Tomar elementos en orden inverso\n",
    "print(list_notas[::-1])  # [14.5, 17, 18, 14, 13, 40, 24, 21, 15]\n",
    "\n",
    "\n",
    "\n",
    "\n"
   ]
  },
  {
   "cell_type": "markdown",
   "id": "2dc2fa45",
   "metadata": {
    "id": "2dc2fa45"
   },
   "source": [
    "\n",
    "# Actividad: Diferentes métodos usados en listas.\n",
    "\n",
    "De la unidad 10, sección 6.3 revise los métodos disponibles para usar sobre las listas.\n",
    "\n",
    "Aplique los métodos disponibles sobre la lista mostrada en la siguiente celda.\n",
    "\n",
    "Nota: usando el método **sort()** ordene de mayor a menor y viceversa (Si es necesario revise documentación adicional relacionada sobre este método)\n"
   ]
  },
  {
   "cell_type": "code",
   "execution_count": 9,
   "id": "6b6b1661",
   "metadata": {
    "id": "6b6b1661"
   },
   "outputs": [
    {
     "name": "stdout",
     "output_type": "stream",
     "text": [
      "Después de append: [15, 21, 24, 40, 13, 14, 18, 13, 17, 14.5, 19]\n",
      "Después de insert: [15, 21, 22, 24, 40, 13, 14, 18, 13, 17, 14.5, 19]\n",
      "Después de extend: [15, 21, 22, 24, 40, 13, 14, 18, 13, 17, 14.5, 19, 16, 20]\n",
      "Después de remove: [15, 21, 22, 24, 40, 14, 18, 13, 17, 14.5, 19, 16, 20]\n",
      "Después de pop: [15, 21, 22, 24, 40, 14, 18, 13, 17, 14.5, 19, 16]\n",
      "Índice de 18: 6\n",
      "Veces que aparece 14: 1\n",
      "Orden ascendente: [13, 14, 14.5, 15, 16, 17, 18, 19, 21, 22, 24, 40]\n",
      "Orden descendente: [40, 24, 22, 21, 19, 18, 17, 16, 15, 14.5, 14, 13]\n",
      "Lista invertida: [13, 14, 14.5, 15, 16, 17, 18, 19, 21, 22, 24, 40]\n"
     ]
    }
   ],
   "source": [
    "# Aplique los métodos disponibles y agregue comentarios breves sobre su funcinamiento.\n",
    "\n",
    "list_notas = [15, 21, 24, 40, 13, 14, 18, 13, 17, 14.5]\n",
    "\n",
    "list_notas = [15, 21, 24, 40, 13, 14, 18, 13, 17, 14.5]\n",
    "\n",
    "list_notas.append(19)\n",
    "print(\"Después de append:\", list_notas)\n",
    "\n",
    "list_notas.insert(2, 22)\n",
    "print(\"Después de insert:\", list_notas)\n",
    "\n",
    "list_notas.extend([16, 20])\n",
    "print(\"Después de extend:\", list_notas)\n",
    "\n",
    "list_notas.remove(13)\n",
    "print(\"Después de remove:\", list_notas)\n",
    "\n",
    "list_notas.pop()\n",
    "print(\"Después de pop:\", list_notas)\n",
    "\n",
    "indice_18 = list_notas.index(18)\n",
    "print(\"Índice de 18:\", indice_18)\n",
    "\n",
    "veces_14 = list_notas.count(14)\n",
    "print(\"Veces que aparece 14:\", veces_14)\n",
    "\n",
    "list_notas.sort()\n",
    "print(\"Orden ascendente:\", list_notas)\n",
    "\n",
    "list_notas.sort(reverse=True)\n",
    "print(\"Orden descendente:\", list_notas)\n",
    "\n",
    "list_notas.reverse()\n",
    "print(\"Lista invertida:\", list_notas)\n",
    "\n",
    "\n",
    "\n",
    "\n"
   ]
  },
  {
   "cell_type": "markdown",
   "id": "84e7ecb6",
   "metadata": {
    "id": "84e7ecb6"
   },
   "source": [
    "# Actividad: Crear diccionarios y guardarlos como archivo JSON.\n",
    "\n",
    "De la unidad 11 sección 4.6 revise el ejemplo mostrado.\n",
    "\n",
    "Genera un diccionario, sobre la información que deseas guardar como base de datos, desarrollo el código necesario para generar el archivo JSON, y también el código para cargar la información del archivo JSON.\n"
   ]
  },
  {
   "cell_type": "code",
   "execution_count": 10,
   "id": "d5fcba32",
   "metadata": {
    "id": "d5fcba32"
   },
   "outputs": [
    {
     "name": "stdout",
     "output_type": "stream",
     "text": [
      "Archivo JSON guardado correctamente.\n",
      "Datos cargados desde JSON:\n",
      "{'estudiantes': [{'nombre': 'Juan', 'id': 1, 'edad': 20}, {'nombre': 'María', 'id': 2, 'edad': 22}, {'nombre': 'Carlos', 'id': 3, 'edad': 21}]}\n"
     ]
    }
   ],
   "source": [
    "# Espacio para desarrollar el código.\n",
    "import json\n",
    "\n",
    "# Crear diccionario de ejemplo\n",
    "base_de_datos = {\n",
    "    \"estudiantes\": [\n",
    "        {\"nombre\": \"Juan\", \"id\": 1, \"edad\": 20},\n",
    "        {\"nombre\": \"María\", \"id\": 2, \"edad\": 22},\n",
    "        {\"nombre\": \"Carlos\", \"id\": 3, \"edad\": 21}\n",
    "    ]\n",
    "}\n",
    "\n",
    "# Guardar diccionario en archivo JSON\n",
    "with open(\"base_de_datos.json\", \"w\") as archivo:\n",
    "    json.dump(base_de_datos, archivo, indent=4)  # indent=4 para formato legible\n",
    "print(\"Archivo JSON guardado correctamente.\")\n",
    "\n",
    "# Cargar información desde archivo JSON\n",
    "with open(\"base_de_datos.json\", \"r\") as archivo:\n",
    "    datos_cargados = json.load(archivo)\n",
    "print(\"Datos cargados desde JSON:\")\n",
    "print(datos_cargados)\n",
    "\n",
    "\n",
    "\n",
    "\n",
    "\n",
    "\n"
   ]
  },
  {
   "cell_type": "markdown",
   "id": "d135447b",
   "metadata": {
    "id": "d135447b"
   },
   "source": [
    "# Actividad: Creación y manejo de tuplas.\n",
    "\n",
    "## Instrucciones\n",
    "\n",
    "1. Escriba una diferencia entre las tuplas y las listas.\n",
    "2. Crear una tupla con varios elementos.\n",
    "3. Usar el operador in para verificar si la tuple contiene determinado elemento.\n"
   ]
  },
  {
   "cell_type": "code",
   "execution_count": 11,
   "id": "172d0153",
   "metadata": {
    "id": "172d0153"
   },
   "outputs": [
    {
     "name": "stdout",
     "output_type": "stream",
     "text": [
      "3 está en la tupla? True\n",
      "6 está en la tupla? False\n"
     ]
    }
   ],
   "source": [
    "# Espacio para desarrollar el código siguiendo las instrucciones.\n",
    "\n",
    "# Tupla creada\n",
    "tup = (1, 2, 3, 4, 5)\n",
    "\n",
    "# Verificar si un elemento está en la tupla usando 'in'\n",
    "print(\"3 está en la tupla?\", 3 in tup)   # True\n",
    "print(\"6 está en la tupla?\", 6 in tup)   # False\n"
   ]
  },
  {
   "cell_type": "markdown",
   "id": "87b18121",
   "metadata": {
    "id": "87b18121"
   },
   "source": [
    "# Actividad: Revisión y manejo de listas bidimensionales.\n",
    "\n",
    "## Instrucciones\n",
    "\n",
    "1. Describa brevemente que entiende por lista bidimensional.\n",
    "2. Crear una lista bidimensional.\n",
    "3. Generar un doble loop para acceder de la lista bidimensional\n",
    "4. Sumar todo los elementos de esta lista bidimensional."
   ]
  },
  {
   "cell_type": "code",
   "execution_count": 12,
   "id": "c3315ab2",
   "metadata": {
    "id": "c3315ab2"
   },
   "outputs": [
    {
     "name": "stdout",
     "output_type": "stream",
     "text": [
      "Elementos de la matriz:\n",
      "1 2 3 \n",
      "4 5 6 \n",
      "7 8 9 \n",
      "Suma total de los elementos: 45\n"
     ]
    }
   ],
   "source": [
    "# Espacio para desarrollar el código, escriba comentarias breves para explicar su funcionamiento.\n",
    "\n",
    "# 1. Descripción\n",
    "# Una lista bidimensional es una lista que contiene otras listas como elementos, formando una especie de matriz.\n",
    "\n",
    "# 2. Crear lista bidimensional\n",
    "matriz = [\n",
    "    [1, 2, 3],\n",
    "    [4, 5, 6],\n",
    "    [7, 8, 9]\n",
    "]\n",
    "\n",
    "# 3. Acceder a los elementos con doble loop\n",
    "print(\"Elementos de la matriz:\")\n",
    "for fila in matriz:\n",
    "    for elemento in fila:\n",
    "        print(elemento, end=\" \")\n",
    "    print()  # salto de línea por fila\n",
    "\n",
    "# 4. Sumar todos los elementos\n",
    "suma_total = 0\n",
    "for fila in matriz:\n",
    "    for elemento in fila:\n",
    "        suma_total += elemento\n",
    "print(\"Suma total de los elementos:\", suma_total)\n",
    "\n",
    "\n",
    "\n",
    "\n",
    "\n",
    "\n",
    "\n"
   ]
  },
  {
   "cell_type": "markdown",
   "id": "59efe91a",
   "metadata": {
    "id": "59efe91a"
   },
   "source": [
    "# Actividad: Revision de los métodos usados en el manejo de diccionarios.\n",
    "\n",
    "## Instrucciones\n",
    "\n",
    "1. Crear un diccionario.\n",
    "2. Testear los siguientes métodos para el majeo de diccionarios get(), keys(), values(), items(), pop(), clear()\n",
    "3. Agregar un breve comentario sobre su funcionamiento."
   ]
  },
  {
   "cell_type": "code",
   "execution_count": 14,
   "id": "a25866dd",
   "metadata": {
    "id": "a25866dd"
   },
   "outputs": [
    {
     "name": "stdout",
     "output_type": "stream",
     "text": [
      "get nombre: Ana\n",
      "Claves: dict_keys(['nombre', 'id', 'edad'])\n",
      "Valores: dict_values(['Ana', 101, 21])\n",
      "Items: dict_items([('nombre', 'Ana'), ('id', 101), ('edad', 21)])\n",
      "Edad eliminada: 21\n",
      "Diccionario después de pop: {'nombre': 'Ana', 'id': 101}\n",
      "Diccionario después de clear: {}\n"
     ]
    }
   ],
   "source": [
    "# Espacio para desarrollar el código.\n",
    "# 1. Crear un diccionario\n",
    "estudiante = {\n",
    "    \"nombre\": \"Ana\",\n",
    "    \"id\": 101,\n",
    "    \"edad\": 21\n",
    "}\n",
    "\n",
    "# 2. Testear métodos\n",
    "\n",
    "# get(): Obtiene el valor de una clave, devuelve None si no existe\n",
    "print(\"get nombre:\", estudiante.get(\"nombre\"))\n",
    "\n",
    "# keys(): Devuelve todas las claves del diccionario\n",
    "print(\"Claves:\", estudiante.keys())\n",
    "\n",
    "# values(): Devuelve todos los valores del diccionario\n",
    "print(\"Valores:\", estudiante.values())\n",
    "\n",
    "# items(): Devuelve tuplas de (clave, valor)\n",
    "print(\"Items:\", estudiante.items())\n",
    "\n",
    "# pop(): Elimina y retorna el valor de la clave indicada\n",
    "edad_eliminada = estudiante.pop(\"edad\")\n",
    "print(\"Edad eliminada:\", edad_eliminada)\n",
    "print(\"Diccionario después de pop:\", estudiante)\n",
    "\n",
    "# clear(): Elimina todos los elementos del diccionario\n",
    "estudiante.clear()\n",
    "print(\"Diccionario después de clear:\", estudiante)"
   ]
  }
 ],
 "metadata": {
  "colab": {
   "provenance": []
  },
  "kernelspec": {
   "display_name": "Python 3",
   "language": "python",
   "name": "python3"
  },
  "language_info": {
   "codemirror_mode": {
    "name": "ipython",
    "version": 3
   },
   "file_extension": ".py",
   "mimetype": "text/x-python",
   "name": "python",
   "nbconvert_exporter": "python",
   "pygments_lexer": "ipython3",
   "version": "3.13.7"
  }
 },
 "nbformat": 4,
 "nbformat_minor": 5
}
