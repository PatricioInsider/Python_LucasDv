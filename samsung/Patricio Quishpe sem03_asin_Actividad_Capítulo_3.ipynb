{
 "cells": [
  {
   "cell_type": "markdown",
   "id": "5ad8356f",
   "metadata": {},
   "source": [
    "# Actividades Capítulo 3.\n",
    "\n",
    "\n",
    "# Concepto básico de programación e inicio en Python\n",
    "\n",
    "## Resumen de actividades\n",
    "\n",
    "\n",
    "- **Unidad 17.** Función\n",
    "- **Unidad 18.** Llamada a la función de recurrencia.\n",
    "- **Unidad 19.** Lambda\n",
    "- **Unidad 20.** Clausura\n",
    "- **Unidad 21.** Clase\n"
   ]
  },
  {
   "cell_type": "markdown",
   "id": "e90ca560",
   "metadata": {},
   "source": [
    "Autor: Patricio Quishpe"
   ]
  },
  {
   "cell_type": "markdown",
   "id": "8c5aa9c8",
   "metadata": {},
   "source": [
    "# Actividad: Creacion de funciones.\n",
    "\n",
    "\n",
    "## Instrucciones\n",
    "\n",
    "1. Defina en forma breve el concepto de función.\n",
    "\n",
    "2. Crear una función para realizar la suma de los números impares en el rango de 0 a 100, dentro de la función imprima los valores sumados y al final retorne el resultado de la sumatoria.\n"
   ]
  },
  {
   "cell_type": "code",
   "execution_count": 1,
   "id": "90cd2e33",
   "metadata": {},
   "outputs": [
    {
     "name": "stdout",
     "output_type": "stream",
     "text": [
      "1\n",
      "3\n",
      "5\n",
      "7\n",
      "9\n",
      "11\n",
      "13\n",
      "15\n",
      "17\n",
      "19\n",
      "21\n",
      "23\n",
      "25\n",
      "27\n",
      "29\n",
      "31\n",
      "33\n",
      "35\n",
      "37\n",
      "39\n",
      "41\n",
      "43\n",
      "45\n",
      "47\n",
      "49\n",
      "51\n",
      "53\n",
      "55\n",
      "57\n",
      "59\n",
      "61\n",
      "63\n",
      "65\n",
      "67\n",
      "69\n",
      "71\n",
      "73\n",
      "75\n",
      "77\n",
      "79\n",
      "81\n",
      "83\n",
      "85\n",
      "87\n",
      "89\n",
      "91\n",
      "93\n",
      "95\n",
      "97\n",
      "99\n",
      "La suma de los impares de 0 a 100 es: 2500\n"
     ]
    }
   ],
   "source": [
    "# Espacio para desarrollar el código requerido, recuerde agregar algunos\n",
    "# comentarios breves sobre su funcionamiento.\n",
    "\n",
    "# Una función es un bloque de código que realiza una tarea específica y puede ser reutilizado.\n",
    "# Ahora creo una función para sumar los números impares del 0 al 100.\n",
    "\n",
    "def suma_impares():\n",
    "    suma = 0\n",
    "    for i in range(1, 101, 2):  # Solo números impares\n",
    "        print(i)  # Imprime cada número impar\n",
    "        suma += i\n",
    "    return suma\n",
    "\n",
    "resultado = suma_impares()\n",
    "print(\"La suma de los impares de 0 a 100 es:\", resultado)\n"
   ]
  },
  {
   "cell_type": "markdown",
   "id": "a11871f3",
   "metadata": {},
   "source": [
    "# Actividad: Diseñe una función para codificar strings y otra para decodificar strings.\n",
    "\n",
    "1. Revise documentación relacionada a los procesos de encriptación, explique brevemente como funcionan.\n",
    "2. Ambas funciones deben tener como entrada un string y una ¨Clave\", la ¨Clave¨ será usada para codificar y decodificar.\n",
    "3. El desarrollo de está actividad esta abierto a multiples soluciones, por favor sea original en su respuesta.\n"
   ]
  },
  {
   "cell_type": "code",
   "execution_count": 2,
   "id": "1e7a5371",
   "metadata": {},
   "outputs": [
    {
     "name": "stdout",
     "output_type": "stream",
     "text": [
      "Codificado: Krod#Pxqgr\n",
      "Decodificado: Hola Mundo\n"
     ]
    }
   ],
   "source": [
    "# Espacio para desarrollar la actividad, si tienes alguna duda o comentario adicional\n",
    "# lo puedes dejar planteado acá.\n",
    "\n",
    "# La encriptación transforma datos para que solo puedan ser leídos con una clave.\n",
    "# Usaré una codificación sencilla tipo César, desplazando letras según la clave.\n",
    "\n",
    "def codificar(texto, clave):\n",
    "    resultado = \"\"\n",
    "    for c in texto:\n",
    "        resultado += chr((ord(c) + clave) % 256)  # Desplaza el código ASCII\n",
    "    return resultado\n",
    "\n",
    "def decodificar(texto_codificado, clave):\n",
    "    resultado = \"\"\n",
    "    for c in texto_codificado:\n",
    "        resultado += chr((ord(c) - clave) % 256)\n",
    "    return resultado\n",
    "\n",
    "mensaje = \"Hola Mundo\"\n",
    "clave = 3\n",
    "codificado = codificar(mensaje, clave)\n",
    "print(\"Codificado:\", codificado)\n",
    "decodificado = decodificar(codificado, clave)\n",
    "print(\"Decodificado:\", decodificado)\n"
   ]
  },
  {
   "cell_type": "markdown",
   "id": "a207d974",
   "metadata": {},
   "source": [
    "\n",
    "# Actividad: Diseñe y codifique una función.\n",
    "\n",
    "1. Diseñe una función que revise el contenido de una carpeta, la mision de esta funcion es revisar todas las carpetas existentes y obtener los nommbres de los archivos contenidos.\n",
    "2. Considere que dentro de cada carpete pueden existir otras carpetas.\n",
    "3. Todas las carpetas deben ser revisadas.\n",
    "4. Con la ejecucion de la siguiente celda se crearan las carpetas y los archivos.\n",
    "5. Es posible que debas considerar el uso de una función recursiva."
   ]
  },
  {
   "cell_type": "code",
   "execution_count": 4,
   "id": "b4ac1d5a",
   "metadata": {},
   "outputs": [
    {
     "name": "stdout",
     "output_type": "stream",
     "text": [
      "Carpeta_principal\n",
      "Carpeta_principal/folder_1\n",
      "Carpeta_principal\\folder_1\n",
      "Carpeta_principal\\folder_1/folder_0\n",
      "Carpeta_principal\\folder_1/folder_2\n",
      "Carpeta_principal\\folder_1/folder_3\n",
      "Carpeta_principal\\folder_1/folder_5\n",
      "Carpeta_principal\\folder_1/folder_6\n",
      "Carpeta_principal\\folder_1/folder_7\n",
      "Carpeta_principal\\folder_1\\folder_0\n",
      "Carpeta_principal\\folder_1\\folder_0/folder_7\n",
      "Carpeta_principal\\folder_1\\folder_0/folder_9\n",
      "Carpeta_principal\\folder_1\\folder_0/folder_10\n",
      "Carpeta_principal\\folder_1\\folder_0/folder_12\n",
      "Carpeta_principal\\folder_1\\folder_0/folder_14\n",
      "Carpeta_principal\\folder_1\\folder_0\\folder_10\n",
      "Carpeta_principal\\folder_1\\folder_0\\folder_12\n",
      "Carpeta_principal\\folder_1\\folder_0\\folder_14\n",
      "Carpeta_principal\\folder_1\\folder_0\\folder_7\n",
      "Carpeta_principal\\folder_1\\folder_0\\folder_9\n",
      "Carpeta_principal\\folder_1\\folder_2\n",
      "Carpeta_principal\\folder_1\\folder_3\n",
      "Carpeta_principal\\folder_1\\folder_5\n",
      "Carpeta_principal\\folder_1\\folder_6\n",
      "Carpeta_principal\\folder_1\\folder_7\n"
     ]
    }
   ],
   "source": [
    "import os\n",
    "import random\n",
    "\n",
    "def guardar_archivo(text_content, file_path):\n",
    "    with open(file_path, 'w') as file:\n",
    "        # Write the text content to the file\n",
    "        file.write(text_content)\n",
    "\n",
    "\n",
    "if os.path.exists(\"Carpeta_principal\"):\n",
    "    os.system(f'rm -r \"Carpeta_principal\"')\n",
    "\n",
    "os.mkdir(\"Carpeta_principal\")\n",
    "# Inicialización\n",
    "\n",
    "\n",
    "\n",
    "def crear_carpetas(ruta_actual):\n",
    "    global numeracion_del_archivo, numero_de_sub_carpetas\n",
    "    numero_de_archivos_o_carpetas = random.randint(0,15) # genración de numero aleatorio entre 0 y 15.\n",
    "    print(ruta_actual)\n",
    "    if numero_de_sub_carpetas < max_carpetas:\n",
    "        for n in range(0, numero_de_archivos_o_carpetas):\n",
    "\n",
    "            numero_aleatorio_2 = random.randint(0,2) # número aleatoria entre 0 y 1.\n",
    "            if numero_aleatorio_2 == 0:\n",
    "                os.mkdir(ruta_actual +'/'+ 'folder_{}'.format(n) )\n",
    "                print(ruta_actual +'/'+ 'folder_{}'.format(n))\n",
    "            else:\n",
    "                contenido_del_archivo = \"Contenido_{}\".format(numeracion_del_archivo)                \n",
    "                ruta_del_archivo = ruta_actual + '/' + \"archivo_{}.text\".format(numeracion_del_archivo)\n",
    "#                 print(\"ruta_del_archivo: \", ruta_del_archivo)\n",
    "                guardar_archivo(contenido_del_archivo, ruta_del_archivo)\n",
    "                numeracion_del_archivo += 1\n",
    "                \n",
    "        lista_de_nuevas_carpetas = [f.path for f in os.scandir(ruta_actual) if f.is_dir()] # Busqueda de nueva carpeta\n",
    "\n",
    "        numero_de_sub_carpetas += 1\n",
    "        for carpeta in lista_de_nuevas_carpetas:\n",
    "            crear_carpetas(carpeta)\n",
    "        \n",
    "max_carpetas = 4\n",
    "numeracion_del_archivo = 0\n",
    "numero_de_sub_carpetas = 0\n",
    "ruta_actual = \"Carpeta_principal\"\n",
    "crear_carpetas(ruta_actual)"
   ]
  },
  {
   "cell_type": "code",
   "execution_count": 5,
   "id": "a4f925a4",
   "metadata": {},
   "outputs": [
    {
     "name": "stdout",
     "output_type": "stream",
     "text": [
      "Datos cargados: {'usuarios': [{'id': 1, 'nombre': 'Ana', 'edad': 23}, {'id': 2, 'nombre': 'Luis', 'edad': 31}], 'curso': 'Python Básico'}\n"
     ]
    }
   ],
   "source": [
    "# Celda para desarrollar \n",
    "\n",
    "\n",
    "import json\n",
    "\n",
    "# Creo un diccionario como base de datos\n",
    "base_datos = {\n",
    "    \"usuarios\": [\n",
    "        {\"id\": 1, \"nombre\": \"Ana\", \"edad\": 23},\n",
    "        {\"id\": 2, \"nombre\": \"Luis\", \"edad\": 31}\n",
    "    ],\n",
    "    \"curso\": \"Python Básico\"\n",
    "}\n",
    "\n",
    "# Guardar como JSON\n",
    "with open(\"base_datos.json\", \"w\") as f:\n",
    "    json.dump(base_datos, f)\n",
    "\n",
    "# Cargar información del archivo JSON\n",
    "with open(\"base_datos.json\", \"r\") as f:\n",
    "    datos_cargados = json.load(f)\n",
    "print(\"Datos cargados:\", datos_cargados)\n",
    "\n",
    "\n",
    "\n",
    "\n"
   ]
  },
  {
   "cell_type": "markdown",
   "id": "26a6bb9e",
   "metadata": {},
   "source": [
    "# Actividad: Crear diccionarios y guardarlos como archivo JSON.\n",
    "\n",
    "De la unidad 11 sección 4.6 revise el ejemplo mostrado.\n",
    "\n",
    "Genera un diccionario, sobre la información que deseas guardar como base de datos, desarrollo el código necesario para generar el archivo JSON, y también el código para cargar la información del archivo JSON.\n"
   ]
  },
  {
   "cell_type": "code",
   "execution_count": 3,
   "id": "6670eace",
   "metadata": {},
   "outputs": [
    {
     "name": "stdout",
     "output_type": "stream",
     "text": [
      "Datos cargados: {'usuarios': [{'id': 1, 'nombre': 'Ana', 'edad': 23}, {'id': 2, 'nombre': 'Luis', 'edad': 31}], 'curso': 'Python Básico'}\n"
     ]
    }
   ],
   "source": [
    "# Espacio para desarrollar el código siguiendo las instrucciones.\n",
    "import json\n",
    "\n",
    "# Creo un diccionario como base de datos\n",
    "base_datos = {\n",
    "    \"usuarios\": [\n",
    "        {\"id\": 1, \"nombre\": \"Ana\", \"edad\": 23},\n",
    "        {\"id\": 2, \"nombre\": \"Luis\", \"edad\": 31}\n",
    "    ],\n",
    "    \"curso\": \"Python Básico\"\n",
    "}\n",
    "\n",
    "# Guardar como JSON\n",
    "with open(\"base_datos.json\", \"w\") as f:\n",
    "    json.dump(base_datos, f)\n",
    "\n",
    "# Cargar información del archivo JSON\n",
    "with open(\"base_datos.json\", \"r\") as f:\n",
    "    datos_cargados = json.load(f)\n",
    "print(\"Datos cargados:\", datos_cargados)\n",
    "\n",
    "\n"
   ]
  },
  {
   "cell_type": "markdown",
   "id": "fbfb4985",
   "metadata": {},
   "source": [
    "# Actividad: Uso de la funcion Lambda.\n",
    "\n",
    "## Instrucciones\n",
    "\n",
    "1. Escriba una función regular donde se realice una operación.\n",
    "2. Escriba la misma función donde use la expresión lambda.\n",
    "3. Explica brevemente las ventajas de usar la función Lambda.\n"
   ]
  },
  {
   "cell_type": "code",
   "execution_count": 2,
   "id": "fc5b1a43",
   "metadata": {},
   "outputs": [
    {
     "name": "stdout",
     "output_type": "stream",
     "text": [
      "Cuadrado regular: 25\n",
      "Cuadrado lambda: 25\n"
     ]
    }
   ],
   "source": [
    "# Espacio para desarrollar el código siguiendo las instrucciones.\n",
    "\n",
    "\n",
    "# Función regular para calcular el cuadrado\n",
    "def cuadrado(x):\n",
    "    return x * x\n",
    "\n",
    "print(\"Cuadrado regular:\", cuadrado(5))\n",
    "\n",
    "# Función lambda para calcular el cuadrado\n",
    "cuadrado_lambda = lambda x: x * x\n",
    "print(\"Cuadrado lambda:\", cuadrado_lambda(5))\n",
    "\n",
    "# Ventaja: Las funciones lambda son útiles para operaciones simples y para usarlas como argumentos en funciones como map, filter, etc.\n"
   ]
  },
  {
   "cell_type": "markdown",
   "id": "98938d2d",
   "metadata": {},
   "source": [
    "# Actividad: Usar la función map para duplicar el valor de cada uno de los elementos contenidos.\n",
    "\n",
    "## Instrucciones\n",
    "\n",
    "1. Describa brevemente el funcionamiento y las ventajas de usar la función map\n",
    "2. Escriba el código en el siguiente espacio."
   ]
  },
  {
   "cell_type": "code",
   "execution_count": 1,
   "id": "a35ef1b7",
   "metadata": {},
   "outputs": [
    {
     "name": "stdout",
     "output_type": "stream",
     "text": [
      "Duplicados: [2, 4, 6, 8, 10]\n"
     ]
    }
   ],
   "source": [
    "# Espacio para desarrollar el código.\n",
    "\n",
    "# La función map aplica una función a cada elemento de una secuencia, facilitando operaciones sobre listas sin necesidad de bucles explícitos.\n",
    "\n",
    "numeros = [1, 2, 3, 4, 5]\n",
    "duplicados = list(map(lambda x: x * 2, numeros))\n",
    "print(\"Duplicados:\", duplicados)\n",
    "\n"
   ]
  }
 ],
 "metadata": {
  "kernelspec": {
   "display_name": "Python 3",
   "language": "python",
   "name": "python3"
  },
  "language_info": {
   "codemirror_mode": {
    "name": "ipython",
    "version": 3
   },
   "file_extension": ".py",
   "mimetype": "text/x-python",
   "name": "python",
   "nbconvert_exporter": "python",
   "pygments_lexer": "ipython3",
   "version": "3.11.9"
  }
 },
 "nbformat": 4,
 "nbformat_minor": 5
}
